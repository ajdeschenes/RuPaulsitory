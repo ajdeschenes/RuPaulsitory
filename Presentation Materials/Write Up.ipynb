{
 "cells": [
  {
   "cell_type": "markdown",
   "metadata": {},
   "source": [
    "# How are crime rates impacted in gentrified neighborhoods?\n",
    "\n",
    "Since gentrification is often justified through the impact it has on crime (i.e. that crime is lower in recently developed neighborhoods), we wanted to compare snapshots of different kinds of crime in each group, “Gentrified” v “Not Gentrified”. If we take for granted that the gentrification groups are correct, our aim is to find out in a future comparison, whether the same changes in crime rate correlate with changes in neighborhood development.\n",
    "\n",
    "Our hypotheses were as follows:\n",
    "\n",
    "H1: As neighborhoods gentrify, violent crime and nonviolent crime will decrease.\n",
    "H2: Since gentrification follows White migration and wealth, as neighborhoods gentrify, White Collar crimes will increase.\n",
    "HØ: Gentrification does not have an effect on crime rate.\n",
    "\n",
    "Performing a one-way ANOVA analysis on our 6 groupings at each timepoint ([Gent, Not Gent] x [Not Violent, Violent, White Collar] x [2002 est, 2010, 2018]), we find that the only clearly statistically meaningful result is a decrease in Non-violent crime in Gentrified neighborhoods (f-statistic: 3.58; p-value: 0.04*). While changes in Violent Crime and White Collar crime also had p-values < 0.00***, the f-statistics showed that there was a great deal of variation within the samples, and so we discard those results (f-statistics, respectively: 12.08, 33.41). While our data was not statistically significant, descriptively we can note white collar crime increased in Gentrified neighborhoods.\n",
    "\n",
    "As a final note, there is also minimal change in violent crime within Gentrified neighborhoods. In future studies, we may want to categorize crime type differently. There may also be historical trends of note that aren’t visible based on the data we examined. But if there aren’t confounders, the data may indicate that gentrification has no impact on violent crime, which either means how violence occurs changes, or we have racially biased assumptions about who commits violent crimes.\n",
    "\n",
    "In the case of Gentrified Non-violent crime, we reject the null hypothesis, and claim gentrification lowers non-violent crime. \n",
    "\n",
    "In all other cases, we failed to reject the null hypothesis.\n",
    " \n",
    "\n",
    "\n",
    "\n",
    "\n",
    "\n"
   ]
  },
  {
   "cell_type": "markdown",
   "metadata": {},
   "source": [
    "# How does the demographic makeup of a neighborhood change as it becomes gentrified?\n",
    "\n",
    "When we compare the graphs created which describe non-gentrified neighborhoods, though we can see that the racial makeup of each neighborhood does fluctuate over time, it is not in a generally consistent manner across all neighborhoods. There is not a consistent pattern and most (but not all) changes are relatively small. The gentrified neighborhoods, however, show consistent increases in white and/or asian percentages across all neighborhoods. The size of these increases vary, but they are present in all examples. \n",
    "\n",
    "\n",
    "\n"
   ]
  },
  {
   "cell_type": "code",
   "execution_count": null,
   "metadata": {},
   "outputs": [],
   "source": []
  }
 ],
 "metadata": {
  "kernelspec": {
   "display_name": "Python 3",
   "language": "python",
   "name": "python3"
  },
  "language_info": {
   "codemirror_mode": {
    "name": "ipython",
    "version": 3
   },
   "file_extension": ".py",
   "mimetype": "text/x-python",
   "name": "python",
   "nbconvert_exporter": "python",
   "pygments_lexer": "ipython3",
   "version": "3.6.7"
  }
 },
 "nbformat": 4,
 "nbformat_minor": 2
}
