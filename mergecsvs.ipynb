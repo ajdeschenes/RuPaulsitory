{
 "cells": [
  {
   "cell_type": "code",
   "execution_count": 30,
   "metadata": {},
   "outputs": [],
   "source": [
    "import pandas as pd\n",
    "# import numpy as np"
   ]
  },
  {
   "cell_type": "code",
   "execution_count": 5,
   "metadata": {},
   "outputs": [],
   "source": [
    "csv1 = pd.read_csv('Resources/Chicago Neighborhoods by Zipcode.csv', delimiter=',')\n",
    "csv2 = pd.read_csv('Resources/UIC_gentrification_index_neighborhood_list.csv', delimiter=',')"
   ]
  },
  {
   "cell_type": "code",
   "execution_count": 7,
   "metadata": {
    "scrolled": true
   },
   "outputs": [
    {
     "data": {
      "text/html": [
       "<div>\n",
       "<style scoped>\n",
       "    .dataframe tbody tr th:only-of-type {\n",
       "        vertical-align: middle;\n",
       "    }\n",
       "\n",
       "    .dataframe tbody tr th {\n",
       "        vertical-align: top;\n",
       "    }\n",
       "\n",
       "    .dataframe thead th {\n",
       "        text-align: right;\n",
       "    }\n",
       "</style>\n",
       "<table border=\"1\" class=\"dataframe\">\n",
       "  <thead>\n",
       "    <tr style=\"text-align: right;\">\n",
       "      <th></th>\n",
       "      <th>Neighborhood</th>\n",
       "      <th>Zip Code</th>\n",
       "    </tr>\n",
       "  </thead>\n",
       "  <tbody>\n",
       "    <tr>\n",
       "      <th>0</th>\n",
       "      <td>Downtown</td>\n",
       "      <td>NaN</td>\n",
       "    </tr>\n",
       "    <tr>\n",
       "      <th>1</th>\n",
       "      <td>Cathedral District</td>\n",
       "      <td>60611</td>\n",
       "    </tr>\n",
       "    <tr>\n",
       "      <th>2</th>\n",
       "      <td>Central Station</td>\n",
       "      <td>60605</td>\n",
       "    </tr>\n",
       "    <tr>\n",
       "      <th>3</th>\n",
       "      <td>Dearborn Park</td>\n",
       "      <td>60605</td>\n",
       "    </tr>\n",
       "    <tr>\n",
       "      <th>4</th>\n",
       "      <td>Gold Coast</td>\n",
       "      <td>60610, 60611</td>\n",
       "    </tr>\n",
       "  </tbody>\n",
       "</table>\n",
       "</div>"
      ],
      "text/plain": [
       "         Neighborhood      Zip Code\n",
       "0            Downtown           NaN\n",
       "1  Cathedral District         60611\n",
       "2     Central Station         60605\n",
       "3       Dearborn Park         60605\n",
       "4          Gold Coast  60610, 60611"
      ]
     },
     "execution_count": 7,
     "metadata": {},
     "output_type": "execute_result"
    }
   ],
   "source": [
    "csv1.head()"
   ]
  },
  {
   "cell_type": "code",
   "execution_count": 31,
   "metadata": {},
   "outputs": [],
   "source": [
    "csv1[\"Neighborhood\"] = csv1[\"Neighborhood\"].str.replace(\"\\xa0\",\"\")"
   ]
  },
  {
   "cell_type": "code",
   "execution_count": 8,
   "metadata": {},
   "outputs": [
    {
     "data": {
      "text/html": [
       "<div>\n",
       "<style scoped>\n",
       "    .dataframe tbody tr th:only-of-type {\n",
       "        vertical-align: middle;\n",
       "    }\n",
       "\n",
       "    .dataframe tbody tr th {\n",
       "        vertical-align: top;\n",
       "    }\n",
       "\n",
       "    .dataframe thead th {\n",
       "        text-align: right;\n",
       "    }\n",
       "</style>\n",
       "<table border=\"1\" class=\"dataframe\">\n",
       "  <thead>\n",
       "    <tr style=\"text-align: right;\">\n",
       "      <th></th>\n",
       "      <th>Neighborhood</th>\n",
       "      <th>1970</th>\n",
       "      <th>1980</th>\n",
       "      <th>1990</th>\n",
       "      <th>2000</th>\n",
       "      <th>2010</th>\n",
       "      <th>1970-2010</th>\n",
       "      <th>Change</th>\n",
       "      <th>Classification</th>\n",
       "    </tr>\n",
       "  </thead>\n",
       "  <tbody>\n",
       "    <tr>\n",
       "      <th>0</th>\n",
       "      <td>Albany Park</td>\n",
       "      <td>NaN</td>\n",
       "      <td>NaN</td>\n",
       "      <td>NaN</td>\n",
       "      <td>NaN</td>\n",
       "      <td>NaN</td>\n",
       "      <td>NaN</td>\n",
       "      <td>Negative</td>\n",
       "      <td>7 - Mild Decline</td>\n",
       "    </tr>\n",
       "    <tr>\n",
       "      <th>1</th>\n",
       "      <td>Archer Heights</td>\n",
       "      <td>NaN</td>\n",
       "      <td>NaN</td>\n",
       "      <td>NaN</td>\n",
       "      <td>NaN</td>\n",
       "      <td>NaN</td>\n",
       "      <td>NaN</td>\n",
       "      <td>Negative</td>\n",
       "      <td>8 - Moderate Decline</td>\n",
       "    </tr>\n",
       "    <tr>\n",
       "      <th>2</th>\n",
       "      <td>Armour Square</td>\n",
       "      <td>NaN</td>\n",
       "      <td>NaN</td>\n",
       "      <td>NaN</td>\n",
       "      <td>NaN</td>\n",
       "      <td>NaN</td>\n",
       "      <td>NaN</td>\n",
       "      <td>Positive</td>\n",
       "      <td>5 - Not Gentrification</td>\n",
       "    </tr>\n",
       "    <tr>\n",
       "      <th>3</th>\n",
       "      <td>Ashburn</td>\n",
       "      <td>NaN</td>\n",
       "      <td>NaN</td>\n",
       "      <td>NaN</td>\n",
       "      <td>NaN</td>\n",
       "      <td>NaN</td>\n",
       "      <td>NaN</td>\n",
       "      <td>Negative</td>\n",
       "      <td>9 - Serious Decline</td>\n",
       "    </tr>\n",
       "    <tr>\n",
       "      <th>4</th>\n",
       "      <td>Auburn Gresham</td>\n",
       "      <td>NaN</td>\n",
       "      <td>NaN</td>\n",
       "      <td>NaN</td>\n",
       "      <td>NaN</td>\n",
       "      <td>NaN</td>\n",
       "      <td>NaN</td>\n",
       "      <td>Negative</td>\n",
       "      <td>9 - Serious Decline</td>\n",
       "    </tr>\n",
       "  </tbody>\n",
       "</table>\n",
       "</div>"
      ],
      "text/plain": [
       "     Neighborhood  1970  1980  1990  2000  2010  1970-2010    Change  \\\n",
       "0     Albany Park   NaN   NaN   NaN   NaN   NaN        NaN  Negative   \n",
       "1  Archer Heights   NaN   NaN   NaN   NaN   NaN        NaN  Negative   \n",
       "2   Armour Square   NaN   NaN   NaN   NaN   NaN        NaN  Positive   \n",
       "3         Ashburn   NaN   NaN   NaN   NaN   NaN        NaN  Negative   \n",
       "4  Auburn Gresham   NaN   NaN   NaN   NaN   NaN        NaN  Negative   \n",
       "\n",
       "           Classification  \n",
       "0        7 - Mild Decline  \n",
       "1    8 - Moderate Decline  \n",
       "2  5 - Not Gentrification  \n",
       "3     9 - Serious Decline  \n",
       "4     9 - Serious Decline  "
      ]
     },
     "execution_count": 8,
     "metadata": {},
     "output_type": "execute_result"
    }
   ],
   "source": [
    "csv2.head()"
   ]
  },
  {
   "cell_type": "code",
   "execution_count": 18,
   "metadata": {},
   "outputs": [],
   "source": [
    "zip_code_file_hoods = sorted(csv2['Neighborhood'].unique())"
   ]
  },
  {
   "cell_type": "code",
   "execution_count": 19,
   "metadata": {},
   "outputs": [],
   "source": [
    "gentrification_zip = sorted(csv1[csv1['Neighborhood'].notnull()]['Neighborhood'].unique())"
   ]
  },
  {
   "cell_type": "code",
   "execution_count": 35,
   "metadata": {
    "scrolled": true
   },
   "outputs": [
    {
     "data": {
      "text/plain": [
       "['Archer Heights',\n",
       " 'Armour Square',\n",
       " 'Ashburn',\n",
       " 'Auburn Gresham',\n",
       " 'Austin',\n",
       " 'Avalon Park',\n",
       " 'Avondale',\n",
       " 'Belmont Cragin',\n",
       " 'Brighton Park',\n",
       " 'Burnside',\n",
       " 'Calumet Heights',\n",
       " 'Chatham',\n",
       " 'Chicago Lawn',\n",
       " 'Clearing',\n",
       " 'Douglas',\n",
       " 'Dunning',\n",
       " 'East Garfield Park',\n",
       " 'East Side',\n",
       " 'Fuller Park',\n",
       " 'Gage Park',\n",
       " 'Garfield Ridge',\n",
       " 'Grand Boulevard',\n",
       " 'Greater Grand',\n",
       " 'Hegewisch',\n",
       " 'Hermosa',\n",
       " 'Humboldt Park',\n",
       " 'Lake View',\n",
       " 'Logan Square',\n",
       " 'Lower West Side',\n",
       " 'Montclare',\n",
       " 'Near South Side',\n",
       " 'New City',\n",
       " 'North Lawndale',\n",
       " \"O'Hare\",\n",
       " 'Pullman',\n",
       " 'Riverdale',\n",
       " 'Rogers Park',\n",
       " 'Roseland',\n",
       " 'South Chicago',\n",
       " 'South Deering',\n",
       " 'South Lawndale',\n",
       " 'Washington Heights',\n",
       " 'West Elsdon',\n",
       " 'West Englewood',\n",
       " 'West Garfield Park',\n",
       " 'West Lawn',\n",
       " 'West Pullman']"
      ]
     },
     "execution_count": 35,
     "metadata": {},
     "output_type": "execute_result"
    }
   ],
   "source": [
    "[n for n in zip_code_file_hoods if n not in gentrification_zip]"
   ]
  },
  {
   "cell_type": "code",
   "execution_count": 38,
   "metadata": {
    "scrolled": true
   },
   "outputs": [
    {
     "data": {
      "text/plain": [
       "Neighborhood       0\n",
       "1970              68\n",
       "1980              68\n",
       "1990              68\n",
       "2000              68\n",
       "2010              68\n",
       "1970-2010         68\n",
       "Change             0\n",
       "Classification     0\n",
       "Zip Code          46\n",
       "dtype: int64"
      ]
     },
     "execution_count": 38,
     "metadata": {},
     "output_type": "execute_result"
    }
   ],
   "source": [
    "merged = csv2.merge(csv1, how='left', on='Neighborhood')\n",
    "merged.isna().sum()"
   ]
  },
  {
   "cell_type": "code",
   "execution_count": 39,
   "metadata": {},
   "outputs": [
    {
     "data": {
      "text/plain": [
       "(77, 10)"
      ]
     },
     "execution_count": 39,
     "metadata": {},
     "output_type": "execute_result"
    }
   ],
   "source": [
    "merged.shape"
   ]
  },
  {
   "cell_type": "code",
   "execution_count": 0,
   "metadata": {},
   "outputs": [],
   "source": []
  }
 ],
 "metadata": {
  "file_extension": ".py",
  "kernelspec": {
   "display_name": "Python 3",
   "language": "python",
   "name": "python3"
  },
  "language_info": {
   "codemirror_mode": {
    "name": "ipython",
    "version": 3
   },
   "file_extension": ".py",
   "mimetype": "text/x-python",
   "name": "python",
   "nbconvert_exporter": "python",
   "pygments_lexer": "ipython3",
   "version": "3.7.1"
  },
  "mimetype": "text/x-python",
  "name": "python",
  "npconvert_exporter": "python",
  "pygments_lexer": "ipython3",
  "version": 3
 },
 "nbformat": 4,
 "nbformat_minor": 2
}
